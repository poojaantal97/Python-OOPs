{
  "cells": [
    {
      "cell_type": "markdown",
      "metadata": {
        "id": "wbsqrte14r4O"
      },
      "source": [
        "#Python OOPs Questions\n"
      ]
    },
    {
      "cell_type": "markdown",
      "metadata": {
        "id": "JOvZrD_x5OUt"
      },
      "source": [
        "#1. What is Object-Oriented Programming(OOP)?\n",
        "\n",
        "##- OOP is a programming paradigm based on the concept of \"objects\" that encapsulate data and behavior. It helps organise code into reusable blueprints (classes) and instances (objects). The four main principles are:\n",
        "- Inheritance\n",
        "- Abstraction\n",
        "- Polymorphism\n",
        "- Encapsulation"
      ]
    },
    {
      "cell_type": "markdown",
      "metadata": {
        "id": "yl5gQhPm7wzj"
      },
      "source": [
        "## Name , Percentile, address(T) is the property/attribute of form(T)\n",
        "## Xerox of original template (T) is called as object."
      ]
    },
    {
      "cell_type": "code",
      "execution_count": null,
      "metadata": {
        "colab": {
          "base_uri": "https://localhost:8080/"
        },
        "id": "MZuE1WZ38R4L",
        "outputId": "41c02b7d-f93f-4186-9fc4-3955884102b2"
      },
      "outputs": [
        {
          "data": {
            "text/plain": [
              "5"
            ]
          },
          "execution_count": 1,
          "metadata": {},
          "output_type": "execute_result"
        }
      ],
      "source": [
        "#example\n",
        "a=5\n",
        "a"
      ]
    },
    {
      "cell_type": "code",
      "execution_count": null,
      "metadata": {
        "colab": {
          "base_uri": "https://localhost:8080/"
        },
        "id": "mFJlRS5u8cfB",
        "outputId": "e091b174-7f0f-4576-c864-e2b0f6228674"
      },
      "outputs": [
        {
          "data": {
            "text/plain": [
              "int"
            ]
          },
          "execution_count": 2,
          "metadata": {},
          "output_type": "execute_result"
        }
      ],
      "source": [
        "type(a)"
      ]
    },
    {
      "cell_type": "markdown",
      "metadata": {
        "id": "uzHxcEu98mDH"
      },
      "source": [
        "#2. What is a class in OOP?\n",
        "- A class is blueprint or template for creating objects. It defines attributes(data) and methods (functions) that the created objects will have."
      ]
    },
    {
      "cell_type": "code",
      "execution_count": null,
      "metadata": {
        "id": "XmosKzbO9qL7"
      },
      "outputs": [],
      "source": [
        "class Bank:\n",
        "    def deposit(self):\n",
        "        print(\"I am depositing money\")\n",
        "    def withdraw(self):\n",
        "        print(\"I am withdrawing money\")"
      ]
    },
    {
      "cell_type": "code",
      "execution_count": null,
      "metadata": {
        "colab": {
          "base_uri": "https://localhost:8080/"
        },
        "id": "Lwa6DxK9-TwA",
        "outputId": "bb1a36c1-2d7d-49fc-958e-2348ad2edb48"
      },
      "outputs": [
        {
          "name": "stdout",
          "output_type": "stream",
          "text": [
            "I am depositing money\n"
          ]
        }
      ],
      "source": [
        "c1=Bank()\n",
        "c1.deposit()"
      ]
    },
    {
      "cell_type": "markdown",
      "metadata": {
        "id": "zh90yj3T-f6X"
      },
      "source": [
        "#3. What is an object in OOP?\n",
        "- In OOP , an object is an instance of a class. It contains real values instead of variables."
      ]
    },
    {
      "cell_type": "code",
      "source": [
        "# class Dog:\n",
        "\n",
        "class Dog:\n",
        "    def __init__(self, name, breed):\n",
        "        self.name = name\n",
        "        self.breed = breed\n",
        "\n",
        "    def bark(self):\n",
        "        print(\"Woof!\")\n",
        "\n",
        "    def describe(self):\n",
        "        print(f\"My name is {self.name} and I am a {self.breed}.\")\n"
      ],
      "metadata": {
        "id": "3_AO1irqabi8"
      },
      "execution_count": 31,
      "outputs": []
    },
    {
      "cell_type": "markdown",
      "metadata": {
        "id": "Cu9gOFALPD4f"
      },
      "source": [
        "#4.What is the difference between abstraction and encapsulation?\n",
        "- Feature//Abstraction//Encapsulation\n",
        "##Focus // Hiding implementation details//Hiding data\n",
        "## Purpose// Simplifies complex reality//Protects internal state\n",
        "##Example// Driving a car without knowing how the engine works//Making variables private using  _or__.\n"
      ]
    },
    {
      "cell_type": "markdown",
      "source": [
        "#5. What is dunder methods in Python?\n",
        "- Dunder (double underscore) methods are special methods with name like -\n",
        " - eg.______init___, ______str___,______len____. They are used to customize behavior of built-in function and operators."
      ],
      "metadata": {
        "id": "HQ8-CUOBePKG"
      }
    },
    {
      "cell_type": "code",
      "source": [
        "class Book:\n",
        "  def __init__(self,title):\n",
        "    self.title=title\n",
        "  def __str__(self):\n",
        "    return f\"Book: {self.title}\""
      ],
      "metadata": {
        "id": "7it-f-gff8gP"
      },
      "execution_count": 26,
      "outputs": []
    },
    {
      "cell_type": "markdown",
      "source": [
        "#6.Explain the concept of inheritence in OOP.\n",
        "- Inheritance allows a class to inherit properties and methods from another class."
      ],
      "metadata": {
        "id": "IwDC0vTggvuH"
      }
    },
    {
      "cell_type": "code",
      "source": [
        "class Animal:\n",
        "  def speak(self):\n",
        "    print(\"Animal speaks\")\n",
        "class Dog(Animal):\n",
        "  def speak(self):\n",
        "    print(\"Dog barks\")"
      ],
      "metadata": {
        "id": "J4Z7TvxsiJVP"
      },
      "execution_count": 32,
      "outputs": []
    },
    {
      "cell_type": "markdown",
      "source": [
        "#7. What is polymorphism in OOP?\n",
        "- Polymorphism allows different classes to be treated as instances of the same class through a common interface."
      ],
      "metadata": {
        "id": "wbtMPbcRisC-"
      }
    },
    {
      "cell_type": "code",
      "source": [
        "class Bird:\n",
        "  def make_sound(self):\n",
        "    print(\"Tweet\")\n",
        "\n",
        "    class cat:\n",
        "      def make_sound(self):\n",
        "        print(\"Meow\")\n",
        "\n",
        "        def animal_sound(animal):\n",
        "          animal.make_sound()\n",
        "          animal_sound(Bird()) # tweet\n",
        "          animal_sound(cat()) #Meow"
      ],
      "metadata": {
        "id": "8d1r_VrFhE3M"
      },
      "execution_count": 33,
      "outputs": []
    },
    {
      "cell_type": "markdown",
      "source": [
        "#8.How is Encapsulation achieved in Python?\n",
        "- Encapsulation is achieved by:\n",
        "- Defining attributes as private usiong _ or __\n",
        "- Providing getters and setters"
      ],
      "metadata": {
        "id": "-UTQz8wwjFNs"
      }
    },
    {
      "cell_type": "code",
      "source": [
        "class Person:\n",
        "  def __init__(self):\n",
        "    self.__age=0\n",
        "\n",
        "  def set_age(self,age):\n",
        "    if age<0:\n",
        "      print(\"Invalid age\")\n",
        "    else:\n",
        "      self.__age=age\n",
        "  def get_age(self):\n",
        "    return self.__age\n"
      ],
      "metadata": {
        "id": "nyG9Uu-Mjk8E"
      },
      "execution_count": 38,
      "outputs": []
    },
    {
      "cell_type": "markdown",
      "source": [
        "#9. What is a constructor in Python?\n",
        "- A constructor is a special method called __init __ () that runs automatically when an object is created."
      ],
      "metadata": {
        "id": "f_GZr9OLh9j5"
      }
    },
    {
      "cell_type": "code",
      "source": [
        "class Student:\n",
        "  def __init__(self,name,age):\n",
        "    self.name=name\n",
        "    self.age=age"
      ],
      "metadata": {
        "id": "2JeLX7Pkk02M"
      },
      "execution_count": 39,
      "outputs": []
    },
    {
      "cell_type": "markdown",
      "source": [
        "#10. What are class and static method in Python ?\n",
        "##Class Method:\n",
        "- A method that takes cls as the first arguments and can modify class state.\n",
        "## Static Method:\n",
        "- Doesn't access class or instance state. Used for utility functions.\n",
        "\n"
      ],
      "metadata": {
        "id": "-AQMhF_Mk7KW"
      }
    },
    {
      "cell_type": "code",
      "source": [
        "class Myclass:\n",
        "  count=0\n",
        "\n",
        "  #Class method\n",
        "  def set_count(cls,value):\n",
        "    cls.count=value\n",
        "\n",
        "    #Staticmethod\n",
        "    def greet(name):\n",
        "      print(f\"Hello,{name}\")"
      ],
      "metadata": {
        "id": "MfT1UcW6lyW9"
      },
      "execution_count": 40,
      "outputs": []
    },
    {
      "cell_type": "markdown",
      "source": [
        "#11. What is method overloading in Python?\n",
        "- Method overloading means defining multiple methods with the name but different parameters.\n",
        "-Python does not support true method overloading like Java or C++.\n",
        "- Instead, we use default arguments."
      ],
      "metadata": {
        "id": "oezJidM2mT4m"
      }
    },
    {
      "cell_type": "code",
      "source": [
        "class Examples:\n",
        "  def greet (self,name=None):\n",
        "    if name:\n",
        "      print(f\"Hello,{name}\")\n",
        "    else:\n",
        "        print(\"Hello\")"
      ],
      "metadata": {
        "id": "n-RxunJXnCmG"
      },
      "execution_count": 43,
      "outputs": []
    },
    {
      "cell_type": "markdown",
      "source": [
        "#12.What is method overriding in OOP?\n",
        "- Method overriding happens when a subclass defines a method with the same name as a method in its superclass, replacing its behavior."
      ],
      "metadata": {
        "id": "9ojpIl-Ynr57"
      }
    },
    {
      "cell_type": "code",
      "source": [
        "class Animal:\n",
        "  def speak(self):\n",
        "    print(\"Animal speaks\")\n",
        "\n",
        "    class Dog(Animal):\n",
        "      def speak(self):\n",
        "        print(\"Dog barks\") # Overrides Animal's speak()"
      ],
      "metadata": {
        "id": "EAofVzdIoFdL"
      },
      "execution_count": 44,
      "outputs": []
    },
    {
      "cell_type": "markdown",
      "source": [
        "#13.What is a property decorator in Python?\n",
        "- The @property decorator allows a method to be accessed like an attribute. It's used for encapsulation (getter/setter logic)."
      ],
      "metadata": {
        "id": "T8wnZRATo-v_"
      }
    },
    {
      "cell_type": "code",
      "source": [
        "class Circle:\n",
        "    def __init__(self,radius):\n",
        "        self._radius= radius\n",
        "\n",
        "    # property\n",
        "    def area(self):\n",
        "        return 3.14*self._radius**2\n",
        "\n"
      ],
      "metadata": {
        "id": "aL6rEMa1pheI"
      },
      "execution_count": 47,
      "outputs": []
    },
    {
      "cell_type": "markdown",
      "source": [
        "#14.Why is polymorphism important in OOP?\n",
        "- Polymorphism enables:\n",
        "- Code reusability\n",
        "- Simplified interface\n",
        "- Flexibility to add new types\n",
        "- Writing functions that work with any class that implements the expected behavior"
      ],
      "metadata": {
        "id": "loYn2chBqqQZ"
      }
    },
    {
      "cell_type": "markdown",
      "source": [
        "#15. What is an abstract class in Python?\n",
        "- An abstract class can not be instantiated and is used to define a common interface for subclasses. Defined using abc module."
      ],
      "metadata": {
        "id": "Bf7EB_vFrWav"
      }
    },
    {
      "cell_type": "code",
      "source": [
        "from abc import ABC,abstractclassmethod\n",
        "\n",
        "class Vehicle(ABC):\n",
        "  @abstractclassmethod\n",
        "  def start(self):\n",
        "    pass"
      ],
      "metadata": {
        "id": "lbd7yBvFr2hN"
      },
      "execution_count": 48,
      "outputs": []
    },
    {
      "cell_type": "markdown",
      "source": [
        "#16. What are the advantages of OOP?\n",
        "\n",
        "## Modularity:\n",
        "- Code is organised into classes\n",
        "## Reusability:\n",
        "- Code can be reused through inheritance\n",
        "## Encapsulation:\n",
        "- Hides internal implementation\n",
        "## flexibility:\n",
        "- through polymorphishm\n",
        "## Scalability:\n",
        "- Easier to scale and maintain"
      ],
      "metadata": {
        "id": "h5ikX2kNsO0e"
      }
    },
    {
      "cell_type": "markdown",
      "source": [
        "#17. What is the difference between a class variable and an instance variable?\n",
        "- The difference between a class variable and an instance variable in object-oriented programming (?like in Python or java) comes down to scope and how they're shared:\n",
        "#1.Class Variable:\n",
        "- defined inside the class , but outside any methods.\n",
        "- Shared by all instance of the class .\n",
        "- Useful for values that should be the same for every object.\n",
        "- Belongs to the class\n",
        "- Yes, shared by all instances\n",
        "- Class body (outside methods)\n",
        "- Class name or self\n",
        "Example:"
      ],
      "metadata": {
        "id": "eb7QZsYhtSVm"
      }
    },
    {
      "cell_type": "code",
      "source": [
        "class Dog:\n",
        "  species=\"canis familiaris\" # class variable\n",
        "\n",
        "  def __init__(self,name):\n",
        "    self.name=name #instance variable\n",
        "\n",
        "dog1=Dog(\"Max\")\n",
        "dog2=Dog(\"Buddy\")\n",
        "\n",
        "print(dog1.name) #Max\n",
        "print(dog2.name) #Buddy\n",
        "print(dog1.species) #canis familiaris\n",
        "print(dog2.species) #canis familiaris\n",
        ""
      ],
      "metadata": {
        "colab": {
          "base_uri": "https://localhost:8080/"
        },
        "id": "TOccnq0Aupqo",
        "outputId": "c6d7bfe0-be2a-44d5-9080-76e0fb2c1fa9"
      },
      "execution_count": 51,
      "outputs": [
        {
          "output_type": "stream",
          "name": "stdout",
          "text": [
            "Max\n",
            "Buddy\n",
            "canis familiaris\n",
            "canis familiaris\n"
          ]
        }
      ]
    },
    {
      "cell_type": "markdown",
      "source": [
        "#Instance Variable\n",
        "- Unique to each instance (object) of the class.\n",
        "- Usually defined inside the __init __ method or other instance methods using self.\n",
        "- Belongs to each instance\n",
        "- No, unique to each instance\n",
        "- Inside methods,using self\n",
        "- Only via self(instance)"
      ],
      "metadata": {
        "id": "UoXwI_GUv6F8"
      }
    },
    {
      "cell_type": "code",
      "source": [
        "print(dog1.name)# Max\n",
        "print(dog2.name)# Buddy"
      ],
      "metadata": {
        "colab": {
          "base_uri": "https://localhost:8080/"
        },
        "id": "oJg4wpHawW0Q",
        "outputId": "975a681c-4523-46e6-f9e6-935cdf43e9fb"
      },
      "execution_count": 52,
      "outputs": [
        {
          "output_type": "stream",
          "name": "stdout",
          "text": [
            "Max\n",
            "Buddy\n"
          ]
        }
      ]
    },
    {
      "cell_type": "markdown",
      "source": [
        "#18.What is multiple inheritance in Python?\n",
        "- Multiple inheritance allows a class to inherit from more than one base class.\n"
      ],
      "metadata": {
        "id": "leDDTCbbwmFq"
      }
    },
    {
      "cell_type": "code",
      "source": [
        "class A:\n",
        "  def method_a(self):\n",
        "    print(\"Method A\")\n",
        "\n",
        "    class B:\n",
        "      def method_b(self):\n",
        "        print(\"Method B\")\n",
        "\n",
        "        class C(A,B):\n",
        "          def method_c(self):\n",
        "            print(\"Method C\")"
      ],
      "metadata": {
        "id": "417pjLdOxy87"
      },
      "execution_count": 53,
      "outputs": []
    },
    {
      "cell_type": "markdown",
      "source": [
        "#19. Explain the purpose of \" __ str __'and' __repr __'' methods in python?\n",
        "## Purpose of __ str __() and __repr __ () in Python:\n",
        "- __ str ___ (): For a readable string representation (used by print()).\n",
        "- __ repr __(): For an unambiguous string used in debugging (used by default in intertpreter)."
      ],
      "metadata": {
        "id": "xrJ2P7lpx-0K"
      }
    },
    {
      "cell_type": "code",
      "source": [
        "class Book:\n",
        "  def __str__(self):\n",
        "    return \"Readable Book info\"\n",
        "\n",
        "  def __repr__(self):\n",
        "    return \"Book('Title')\""
      ],
      "metadata": {
        "id": "T_M2X_Zjzd_1"
      },
      "execution_count": 56,
      "outputs": []
    },
    {
      "cell_type": "markdown",
      "source": [
        "#20.What is the significance of the 'super()' function in Python?\n",
        " ## Significance of super() function in Pythopn:\n",
        " - Super () is used to call methods from a parent class, especially in inheritance."
      ],
      "metadata": {
        "id": "UOWgsOhc0QAu"
      }
    },
    {
      "cell_type": "code",
      "source": [
        "class Parent:\n",
        "  def greet(self):\n",
        "    print(\"Hello from parent\")\n",
        "\n",
        "    class Child(Parent):\n",
        "      def greet(self):\n",
        "        super().greet()\n",
        "        print(\"Hello from child\")"
      ],
      "metadata": {
        "id": "gsMzqBG50_XG"
      },
      "execution_count": 57,
      "outputs": []
    },
    {
      "cell_type": "markdown",
      "source": [
        "#21.What is the significance of the __ del __ method in Pythod?\n",
        "- __ del __ () is the destructor method.\n",
        "- It's called automatically when an object is about to be destroyed (usually when there are no more references to it).\n",
        "- Common use: Cleaning up resources like files or network connections.\n"
      ],
      "metadata": {
        "id": "9FtUpX7l1Nxs"
      }
    },
    {
      "cell_type": "code",
      "source": [
        "class FileHandler:\n",
        "  def __del__(self):\n",
        "    print (\"File handler object is being destroyed\")"
      ],
      "metadata": {
        "id": "byqyL1qV1_aN"
      },
      "execution_count": 61,
      "outputs": []
    },
    {
      "cell_type": "markdown",
      "source": [
        "#22.What is the difference between @staticmethod and @classmethod in Python?\n",
        "## Difference between @staticmethod and @classmethod in Python:\n",
        "@staticmethod:\n",
        "## Feature:\n",
        "- Accessses class? - No\n",
        "- Used For : Utility functions\n",
        "- First argument: None  \n",
        "\n",
        "@classmethod:\n",
        "## Feature:\n",
        "- Accesses class?- Yes(cls)\n",
        "- Used For: Factory methods or modifying class state\n",
        "- First argument: cls (the class)\n"
      ],
      "metadata": {
        "id": "sw7i-3vw2fGy"
      }
    },
    {
      "cell_type": "code",
      "source": [
        "class Demo:\n",
        "  @staticmethod\n",
        "  def add(x,y):\n",
        "    return x+y\n",
        "\n",
        "  @classmethod\n",
        "  def multiply(cls,x,y):\n",
        "    return cls.add(x,y)*x"
      ],
      "metadata": {
        "id": "5swX39rQ4MhW"
      },
      "execution_count": 62,
      "outputs": []
    },
    {
      "cell_type": "markdown",
      "source": [
        "#23. How does polymorphism work in Python with inheritance?\n",
        "- Polymorphism lets subclasses override methods of a parent class. When using a parent class refernce, the child's method is called , based on actual object type.\n"
      ],
      "metadata": {
        "id": "o-LfTp7Y4aHj"
      }
    },
    {
      "cell_type": "code",
      "source": [
        "class Animal:\n",
        "  def speak(self):\n",
        "    print(\"Animal speaks\")\n",
        "\n",
        "    class Cat(Animal):\n",
        "      def speak(self):\n",
        "        print(\"Cat meows\")\n",
        "        def make_sound(animal):\n",
        "          animal.speak()\n",
        "          make_sound(Cat())"
      ],
      "metadata": {
        "id": "dxzZvNwZ5DJh"
      },
      "execution_count": 65,
      "outputs": []
    },
    {
      "cell_type": "markdown",
      "source": [
        "#24. What is method chaining in Python OOP?\n",
        "- Method chaining means calling multiple methods on the same object in a single line, by returning self from each method."
      ],
      "metadata": {
        "id": "TNLgI1aD6DAC"
      }
    },
    {
      "cell_type": "code",
      "source": [
        "class person:\n",
        "  def set_name(self,name):\n",
        "    self.name=name\n",
        "    return self"
      ],
      "metadata": {
        "id": "jE1PM3EU6a-5"
      },
      "execution_count": 66,
      "outputs": []
    },
    {
      "cell_type": "markdown",
      "source": [
        "#25. what is the purpose of the __ call __ method in Python?\n",
        "- __ call __() makes an object callable like a function.\n",
        "- This adds function-like behavior to objects.\n"
      ],
      "metadata": {
        "id": "2laEinqH6pNr"
      }
    },
    {
      "cell_type": "code",
      "source": [
        "class Multiplier:\n",
        "  def __init__(self,factor):\n",
        "    self.factor=factor\n",
        "\n",
        "    def __call__(self,x):\n",
        "      return x*self.factor\n",
        "\n",
        "      double=multiplier(2)\n",
        "      print(double(5))"
      ],
      "metadata": {
        "id": "3XZcz9cS7KfD"
      },
      "execution_count": 67,
      "outputs": []
    },
    {
      "cell_type": "markdown",
      "source": [
        "# Practical Questions"
      ],
      "metadata": {
        "id": "14qjp46g75ux"
      }
    },
    {
      "cell_type": "markdown",
      "source": [
        "#1. Create a parent class Animal with a method speak() that prints a generic message. Create a child class dog that overrides the speak() method to print \"Bark\"."
      ],
      "metadata": {
        "id": "yXt_r8Yj7-9W"
      }
    },
    {
      "cell_type": "code",
      "source": [
        "# Parent class\n",
        "class Animal:\n",
        "  def speak(self):\n",
        "    print(\"The animal make a sound\")\n",
        "\n",
        "    #Child class\n",
        "    class Dog(Animal):\n",
        "         def speak(self):\n",
        "          print(\"Bark!\")\n",
        "# Creating objects\n",
        "animal=animal()\n",
        "dog=Dog()"
      ],
      "metadata": {
        "id": "9Feea_Zo8h0r"
      },
      "execution_count": 84,
      "outputs": []
    },
    {
      "cell_type": "code",
      "source": [
        "# Example usage\n",
        "a=Animal()\n",
        "a.speak()"
      ],
      "metadata": {
        "colab": {
          "base_uri": "https://localhost:8080/"
        },
        "id": "YtzNXp4u84GN",
        "outputId": "08054d5a-afb1-43d0-dcc7-185820a5042a"
      },
      "execution_count": 96,
      "outputs": [
        {
          "output_type": "stream",
          "name": "stdout",
          "text": [
            "The animal make a sound\n"
          ]
        }
      ]
    },
    {
      "cell_type": "code",
      "source": [
        "# Child class\n",
        "class Dog(Animal):\n",
        "  def speak(self):\n",
        "    print(\"Bark!\")\n",
        "d=Dog()\n",
        "d.speak()"
      ],
      "metadata": {
        "colab": {
          "base_uri": "https://localhost:8080/"
        },
        "id": "BrwPST7b8_pi",
        "outputId": "85676c88-35c1-4ac5-88e0-0b802494f3d8"
      },
      "execution_count": 104,
      "outputs": [
        {
          "output_type": "stream",
          "name": "stdout",
          "text": [
            "Bark!\n"
          ]
        }
      ]
    },
    {
      "cell_type": "markdown",
      "source": [
        "#2. Write a program to create an abstract class shape with a method area(). Derive classes Circle and rectangle from it and implement the area() method in both."
      ],
      "metadata": {
        "id": "BozBXEQ-CT3v"
      }
    },
    {
      "cell_type": "code",
      "source": [
        "from abc import ABC, abstractmethod\n",
        "import math\n",
        "\n",
        "#Abstract base class\n",
        "class Shape(ABC):\n",
        "    @abstractmethod\n",
        "    def area(self):\n",
        "      pass\n",
        "\n",
        "# Derived class: Circle\n",
        "class Circle(Shape):\n",
        "    def __init__(self,radius):\n",
        "      self.radius=radius\n",
        "\n",
        "      def area (self):\n",
        "        return math.pi*self.radius**2\n",
        "#Derived class: Rectangle\n",
        "\n",
        "class Rectangle(Shape):\n",
        "  def __init__(self,width,height):\n",
        "    self.width=width\n",
        "    self.height=height\n",
        "\n",
        "    def area(self):\n",
        "      return self.width*self.height\n"
      ],
      "metadata": {
        "id": "SfqhTqcHC5LI"
      },
      "execution_count": 141,
      "outputs": []
    },
    {
      "cell_type": "markdown",
      "source": [
        "#3.Implement a multi-level inheritance scenario where a class Vehicle has an attribute type. derive a class Car and further derive a class electric Car that adds a battery attribute.\n"
      ],
      "metadata": {
        "id": "wAuP7drcMRe7"
      }
    },
    {
      "cell_type": "code",
      "source": [
        "# Base class\n",
        "class vehicle:\n",
        "  def __init__(self,vehicle_type):\n",
        "    self.vehicle_type=vehicle_type\n",
        "\n",
        "# Derived class from vehicle\n",
        "class Car(vehicle):\n",
        "  def __init__(self,vehicle_type,brand):\n",
        "    super().__init__(\"vehicle_type\")\n",
        "    self.brand=brand\n",
        "    def display_brand(self):\n",
        "      print(\"Car Brand:\",self.brand)\n",
        "\n",
        "# Derived class from Car (Multilevel)\n",
        "class ElectricCar(Car):\n",
        "  def __init__(self,vehicle_type,brand,battery_capacity):\n",
        "    super().__init__(vehicle_type,brand)\n",
        "    self.battery_capacity=battery_capacity\n",
        "\n",
        "    def display_battery(self):\n",
        "      print(\"Battery Capacity:\",self.battery_capacity,\"kWh\")\n"
      ],
      "metadata": {
        "id": "7bCiVAumNmnL"
      },
      "execution_count": 147,
      "outputs": []
    },
    {
      "cell_type": "markdown",
      "source": [
        "#4.Demonstrate polynomial by creating a base class Bird with a method fly(). Create two derived classes Sparrow and Penguin that override the fly() method."
      ],
      "metadata": {
        "id": "12Uxn_R1QwJi"
      }
    },
    {
      "cell_type": "code",
      "source": [
        "#Base Class\n",
        "class Bird:\n",
        "  def fly(self):\n",
        "    print(\"Some Birds can fly.\")\n",
        "\n",
        "# Derived class: Sparrow\n",
        "class Sparrow(Bird):\n",
        "  def fly(self):\n",
        "    print(\"Sparrows can fly at high speeds in the sky.\")\n",
        "\n",
        "#Derived class: p[enguin\n",
        "class Penguin(Bird):\n",
        "  def fly(self):\n",
        "    print(\"Penguins can't fly,but they swim well.\")\n",
        "\n",
        "# Polymorphism in Action\n",
        "def bird_fly(bird):\n",
        "  bird.fly()"
      ],
      "metadata": {
        "id": "kbJuABpaRXKP"
      },
      "execution_count": 151,
      "outputs": []
    },
    {
      "cell_type": "code",
      "source": [
        "sparrow=Sparrow()\n",
        "penguin=Penguin()\n",
        "bird_fly(sparrow)\n",
        "bird_fly(penguin)"
      ],
      "metadata": {
        "colab": {
          "base_uri": "https://localhost:8080/"
        },
        "id": "5CH1xx7LSPbH",
        "outputId": "553dbfa1-ffee-4e78-9c10-1b935e06b4e2"
      },
      "execution_count": 152,
      "outputs": [
        {
          "output_type": "stream",
          "name": "stdout",
          "text": [
            "Sparrows can fly at high speeds in the sky.\n",
            "Penguins can't fly,but they swim well.\n"
          ]
        }
      ]
    },
    {
      "cell_type": "markdown",
      "source": [
        "#5.Write a program to demonstrate encapsulation by creating a class BankAccount with private attributes balance and methods to deposit, withdraw, and check balance."
      ],
      "metadata": {
        "id": "8veyIHHHSiNW"
      }
    },
    {
      "cell_type": "code",
      "source": [
        "class Bankaccount:\n",
        "  def __init__(self,initial_balance=0):\n",
        "    self.__balance=initial_balance # private attribute\n",
        "\n",
        "#Method to deposit money\n",
        "    def deposite(self,amount):\n",
        "      if amount>0:\n",
        "        self._balance+=amount\n",
        "        print(f\"deposited:${amount}\")\n",
        "      else:\n",
        "          print(\"Deposite amount must be positive.\")\n",
        "\n",
        "#Method to withdraw money\n",
        "    def withdraw(self,amount):\n",
        "      if 0<amount<=self._balance:\n",
        "        self._balance-=amount\n",
        "        print(f\"Withdraw:${amount}\")\n",
        "      else:\n",
        "        print(\"Insufficient balance or invalid withdraw amount.\")\n",
        "\n",
        "#Method to check balance\n",
        "    def check_balance(self):\n",
        "      print(f\"Current Balance:${self._balance}\")\n",
        "\n",
        "\n"
      ],
      "metadata": {
        "id": "2bZf1SG-THFH"
      },
      "execution_count": 153,
      "outputs": []
    },
    {
      "cell_type": "markdown",
      "source": [
        "#6.Demonstrate runtime polymorphism a method play() in a base class Instrument.Derive classes Guitar and Piano that implement their own version of play()."
      ],
      "metadata": {
        "id": "w3-GyFmlWvrl"
      }
    },
    {
      "cell_type": "code",
      "source": [
        "# Base class:\n",
        "class Instrument:\n",
        "  def play(self):\n",
        "    print(\"Playing an instrument.\")\n",
        "\n",
        "# Derived class: Guitar\n",
        "class Guitar(Instrument):\n",
        "  def play(self):\n",
        "    print(\"Playing Guitar\")\n",
        "\n",
        "# Derived class: Piano\n",
        "class Piano(Instrument):\n",
        "  def play(self):\n",
        "    print(\"Playing the Piano\")\n",
        "\n",
        "# Function demonstrating runtime polymorphism\n",
        "    def perform_play(instrument):\n",
        "      instrument.play()"
      ],
      "metadata": {
        "id": "QDhPyhTUXbxE"
      },
      "execution_count": 158,
      "outputs": []
    },
    {
      "cell_type": "markdown",
      "source": [
        "#7.Create a class MathOperations with a class method add_numbers() to add two numbers and a static method subtract_numbers() to subtract two numbers."
      ],
      "metadata": {
        "id": "av9pZOKdZ4NM"
      }
    },
    {
      "cell_type": "code",
      "source": [
        "class mathOperations:\n",
        "  #Classs method to add two numbers\n",
        "  @classmethod\n",
        "  def add_numbers(cls,a,b):\n",
        "    return a+b\n",
        "\n",
        "#Static method to subtract two numbers\n",
        "@staticmethod\n",
        "def subtract_numbers(a,b):\n",
        "  return a-b\n",
        "\n"
      ],
      "metadata": {
        "id": "MVQB80s8agQn"
      },
      "execution_count": 162,
      "outputs": []
    },
    {
      "cell_type": "markdown",
      "source": [
        "#8.Implement a class Person with a class method to count the total number of personcreated."
      ],
      "metadata": {
        "id": "Pg9TVkBAcMjk"
      }
    },
    {
      "cell_type": "code",
      "source": [
        "class Person:\n",
        "  count=0 # Class variable to keep track of instances\n",
        "\n",
        "  def __init__(self,name):\n",
        "    self.name=name\n",
        "    Person.count+=1 # Increment count whenever a new object is created\n",
        "\n",
        "    @classmethod\n",
        "    def total_persons(cls):\n",
        "      return cls.count\n",
        "\n"
      ],
      "metadata": {
        "id": "emNp-UZBcdAD"
      },
      "execution_count": 173,
      "outputs": []
    },
    {
      "cell_type": "markdown",
      "source": [
        "#9. Write a class Fraction with attributes numerator and denominator. Override the str method to display the fraction as \"numerator/denominator\"."
      ],
      "metadata": {
        "id": "FFyBUP-UfotI"
      }
    },
    {
      "cell_type": "code",
      "source": [
        "class fraction:\n",
        "  def __init__(self,numerator, denominator):\n",
        "    self.numerator=numerator\n",
        "    self.denominator=denominator\n",
        "\n",
        "    def __str__(self):\n",
        "      return f\"{self.numerator}/{self.denominator}\""
      ],
      "metadata": {
        "id": "MwUnYCiYkVey"
      },
      "execution_count": null,
      "outputs": []
    },
    {
      "cell_type": "markdown",
      "source": [
        "#10. DEmonstrating operator overloading by creating a class Vector and overriding the add method to add two vectors."
      ],
      "metadata": {
        "id": "GoFUsr56lCs-"
      }
    },
    {
      "cell_type": "code",
      "source": [
        "class Vectors:\n",
        "  def __init__(self,x,y):\n",
        "    self.x=x\n",
        "    self.y=y\n",
        "\n",
        "    def __add__(self,other):\n",
        "      if isinstance(other,Vectors):\n",
        "        return Vectors(self.x+other.x,self.y+other.y)\n",
        "      else:\n",
        "        raise TypeError(\"Operand must be an instance of Vector\")\n",
        "    def __str__(self):\n",
        "      return f\"Vector({self.x},{self.y})\""
      ],
      "metadata": {
        "id": "r80DooowlcB_"
      },
      "execution_count": 177,
      "outputs": []
    },
    {
      "cell_type": "markdown",
      "source": [
        "#11.Create a class Person with attributes name and age. Add a method greet() that prints \"Hello,my name is {name} and I am {age} years old\"."
      ],
      "metadata": {
        "id": "DBOFltuTnT_1"
      }
    },
    {
      "cell_type": "code",
      "source": [
        "class Person:\n",
        "  def __init__(self,name,age):\n",
        "    self.name=name\n",
        "    self.age=age\n",
        "\n",
        "  def greet(self):\n",
        "      print(f\"Hello,my name is {self.name} and I am {self.age} years old.\")"
      ],
      "metadata": {
        "id": "yuVocxTioQFG"
      },
      "execution_count": 190,
      "outputs": []
    },
    {
      "cell_type": "code",
      "source": [
        "person=Person(\"Alice\",25)\n",
        "person.greet()"
      ],
      "metadata": {
        "colab": {
          "base_uri": "https://localhost:8080/"
        },
        "id": "_D152V01oed-",
        "outputId": "b2382a2e-90ba-4a2a-c33b-b47130e9435a"
      },
      "execution_count": 191,
      "outputs": [
        {
          "output_type": "stream",
          "name": "stdout",
          "text": [
            "Hello,my name is Alice and I am 25 years old.\n"
          ]
        }
      ]
    },
    {
      "cell_type": "markdown",
      "source": [
        "#12. Implement a class Student with attributes name and grades. Create a method average_grade() to compute the average of the grades."
      ],
      "metadata": {
        "id": "31zlR88Jpc97"
      }
    },
    {
      "cell_type": "code",
      "source": [
        "class Student:\n",
        "  def __init__(self,name,grades):\n",
        "    self.name=name\n",
        "    self.grades=grades\n",
        "\n",
        "    def average_grade(self):\n",
        "      if not self.grades:\n",
        "         return 0 # Return 0 if there are no grades to avoid division by zero\n",
        "\n",
        "      return sum(self.grades)/len(self.grades)"
      ],
      "metadata": {
        "id": "oxNaTrpRp3n2"
      },
      "execution_count": 192,
      "outputs": []
    },
    {
      "cell_type": "markdown",
      "source": [
        "#13.Create a class Rectangle with methods set_dimensions() to set the dimensions and area () to calculate the area."
      ],
      "metadata": {
        "id": "S4bTt1-prysv"
      }
    },
    {
      "cell_type": "code",
      "source": [
        "class Rectangle:\n",
        "  def __init__(self,length,width=0):\n",
        "    self.length=0\n",
        "    self.width=0\n",
        "\n",
        "    def set_dimensions(self,length,width):\n",
        "      \"\"\"Sets the dimensions of the rectangle.\"\"\"\n",
        "      self.length=length\n",
        "      self.width=width\n",
        "\n",
        "      def area(self):\n",
        "        \"\"\"Calculates the area of the rectangle.\"\"\"\n",
        "        return self.length*self.width"
      ],
      "metadata": {
        "id": "MZN-NJ3osLcn"
      },
      "execution_count": 198,
      "outputs": []
    },
    {
      "cell_type": "markdown",
      "source": [
        "#14. Create a class Employee with a method calculate_ salary() that computes the salary based on hours worked and hourly rate.Create a derived class Manager that adds a bonus to the salary."
      ],
      "metadata": {
        "id": "oo52TcKLuGD0"
      }
    },
    {
      "cell_type": "code",
      "source": [
        "# Base class Employee\n",
        "class Employee:\n",
        "  def __init__(self,name,hours_worked,hourly_rate):\n",
        "    self.name=name\n",
        "    self.hours_worked=hours_worked\n",
        "    self.hourly_rate=hourly_rate\n",
        "\n",
        "    def calculate_salary(self):\n",
        "      #Computes salary as hours worked multiplied by hourly rate\n",
        "      return self.hours_worked*self.hourly_rate\n",
        "\n",
        " #Derived class Manager\n",
        "class Manager(Employee):\n",
        "   def __init__(self,name,hours_worked,hourly_rate,bonus):\n",
        "    super().__init__(name,hours_worked,hourly_rate)\n",
        "    self.bonus=bonus\n",
        "\n",
        "   def calculate_salary(self):\n",
        "\n",
        "#Computes salary for Manager by adding bonus to the regular salary\n",
        "     base_salary = super().calculate_salary()\n",
        "     return base_salary+self.bonus"
      ],
      "metadata": {
        "id": "k5KMHxeCu16O"
      },
      "execution_count": 210,
      "outputs": []
    },
    {
      "cell_type": "markdown",
      "source": [
        "#15. Create a class Product with attributes name,price, and quantity. Implement a method total_price() that calculates the total price of the product."
      ],
      "metadata": {
        "id": "g9xrjxQ7xWO8"
      }
    },
    {
      "cell_type": "code",
      "source": [
        "class Product:\n",
        "  def __init__(self,name,price,quantity):\n",
        "    self.name=name\n",
        "    self.price=price\n",
        "    self.quantity=quantity\n",
        "\n",
        "    def total_price(self):\n",
        "      return self.price*self.quantity"
      ],
      "metadata": {
        "id": "S2M0shCbx9M_"
      },
      "execution_count": 211,
      "outputs": []
    },
    {
      "cell_type": "markdown",
      "source": [
        "#16. Create a class Animal with an abstract method sound(). Create two derived classes Cow and Sheep that implement the sound() method."
      ],
      "metadata": {
        "id": "fkBjjmuUyiZE"
      }
    },
    {
      "cell_type": "code",
      "source": [
        "from abc import ABC,abstractmethod\n",
        "\n",
        "#Abstract base class\n",
        "class Animal(ABC):\n",
        "  @abstractmethod\n",
        "  def sound(self):\n",
        "    pass\n",
        "\n",
        "  class Cow(Animal):\n",
        "    def sound(self):\n",
        "      return \"Moo\"\n",
        "\n",
        "  class Sheep(Animal):\n",
        "    def sound(self):\n",
        "      return \"Baa\""
      ],
      "metadata": {
        "id": "Sd5cuin9y5M2"
      },
      "execution_count": 216,
      "outputs": []
    },
    {
      "cell_type": "markdown",
      "source": [
        "#17.Create a class Book with attributes title, author, and year_published. Add a method get_book_info() that returns a formatted string with the book's details."
      ],
      "metadata": {
        "id": "yUA-gxmvzwxO"
      }
    },
    {
      "cell_type": "code",
      "source": [
        "class Book:\n",
        "  def __init__(self,title,author,year_published):\n",
        "    self.title=title\n",
        "    self.author=author\n",
        "    self.year_published=year_published\n",
        "\n",
        "    def get_book_info(self):\n",
        "      return f\"Title:{self.title}\\nAuthor:{self.author}\\nYear Published:{self.year_published}\""
      ],
      "metadata": {
        "id": "dAHcBv-d0ODV"
      },
      "execution_count": 218,
      "outputs": []
    },
    {
      "cell_type": "markdown",
      "source": [
        "#18.Create a class House with attributes address and price. Create a derived class Mansion that adds an attributes number_of_rooms."
      ],
      "metadata": {
        "id": "YdgdnEdB0frA"
      }
    },
    {
      "cell_type": "code",
      "source": [
        "class House:\n",
        "  def __init__(self,address,price):\n",
        "    self.address=address\n",
        "    self.price=price\n",
        "#Define Mansion Outside House\n",
        "    class Mansion(House):\n",
        "      def __init__(self,address,price,number_of_rooms):\n",
        "        super().__init__(address,price)\n",
        "        self.number_of_rooms=number_of_rooms\n"
      ],
      "metadata": {
        "id": "XWiQVwFw02ds"
      },
      "execution_count": 219,
      "outputs": []
    }
  ],
  "metadata": {
    "colab": {
      "provenance": []
    },
    "kernelspec": {
      "display_name": "Python 3",
      "name": "python3"
    },
    "language_info": {
      "name": "python"
    }
  },
  "nbformat": 4,
  "nbformat_minor": 0
}